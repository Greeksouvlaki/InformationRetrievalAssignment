{
 "cells": [
  {
   "cell_type": "markdown",
   "metadata": {},
   "source": [
    "# Εργασία Εργαστηρίου - Σχόλια\n",
    "\n",
    "Δημήτρης Σκούφης - 21390317 - ΧΠ\n"
   ]
  },
  {
   "cell_type": "markdown",
   "metadata": {},
   "source": [
    "# Βήμα 1: Δημιουργία Dataset\n",
    "\n",
    "Βρήκα πολύ βασικά άρθρα για ορισμένες κατηγορίες καθώς η κλίμακα της μηχανής αναζήτησης θα είναι πολύ μικρή"
   ]
  },
  {
   "cell_type": "code",
   "execution_count": null,
   "metadata": {
    "vscode": {
     "languageId": "plaintext"
    }
   },
   "outputs": [],
   "source": [
    "# Λίστα URLs για συλλογή άρθρων από Wikipedia\n",
    "wikipedia_urls = [\n",
    "    \"https://en.wikipedia.org/wiki/Quantum_mechanics\",\n",
    "    \"https://en.wikipedia.org/wiki/Artificial_intelligence\",\n",
    "    \"https://en.wikipedia.org/wiki/Space_exploration\",\n",
    "    \"https://en.wikipedia.org/wiki/Computer_network\",\n",
    "    \"https://en.wikipedia.org/wiki/French_Revolution\",\n",
    "    \"https://en.wikipedia.org/wiki/World_War_II\",\n",
    "    \"https://en.wikipedia.org/wiki/Ancient_Greece\",\n",
    "    \"https://en.wikipedia.org/wiki/Renaissance\",\n",
    "    \"https://en.wikipedia.org/wiki/Seven_Wonders_of_the_World\",\n",
    "    \"https://en.wikipedia.org/wiki/Great_Barrier_Reef\",\n",
    "    \"https://en.wikipedia.org/wiki/Amazon_rainforest\",\n",
    "    \"https://en.wikipedia.org/wiki/Sahara\",\n",
    "    \"https://en.wikipedia.org/wiki/Classical_music\",\n",
    "    \"https://en.wikipedia.org/wiki/Impressionism\",\n",
    "    \"https://en.wikipedia.org/wiki/Film\",\n",
    "    \"https://en.wikipedia.org/wiki/Homer\",\n",
    "    \"https://en.wikipedia.org/wiki/Evolution\",\n",
    "    \"https://en.wikipedia.org/wiki/Human_anatomy\",\n",
    "    \"https://en.wikipedia.org/wiki/Climate\",\n",
    "    \"https://en.wikipedia.org/wiki/Biodiversity\",\n",
    "    \"https://en.wikipedia.org/wiki/Sustainable_development\",\n",
    "    \"https://en.wikipedia.org/wiki/Globalization\",\n",
    "    \"https://en.wikipedia.org/wiki/Blockchain\",\n",
    "    \"https://en.wikipedia.org/wiki/Financial_crisis_of_2007–2008\",\n",
    "    \"https://en.wikipedia.org/wiki/Vaccine\",\n",
    "    \"https://en.wikipedia.org/wiki/Mental_health\",\n",
    "    \"https://en.wikipedia.org/wiki/Nutrition\",\n",
    "    \"https://en.wikipedia.org/wiki/Pandemic\"\n",
    "]\n"
   ]
  },
  {
   "cell_type": "markdown",
   "metadata": {},
   "source": [
    "# Δημιουργία Web Crawler προγράμματος\n",
    "\n",
    "Έγραψα αυτό το script που με την χρήση του BeautifulSoup Library μπορεί και αποθηκεύει τα δεδομένα αυτών των άρθρων σε JSON αρχείο"
   ]
  },
  {
   "cell_type": "code",
   "execution_count": null,
   "metadata": {
    "vscode": {
     "languageId": "plaintext"
    }
   },
   "outputs": [],
   "source": [
    "import requests\n",
    "from bs4 import BeautifulSoup\n",
    "import json\n",
    "\n",
    "# Λίστα URLs για συλλογή άρθρων από Wikipedia\n",
    "wikipedia_urls = [\n",
    "    \"https://en.wikipedia.org/wiki/Quantum_mechanics\",\n",
    "    \"https://en.wikipedia.org/wiki/Artificial_intelligence\",\n",
    "    \"https://en.wikipedia.org/wiki/Space_exploration\",\n",
    "    \"https://en.wikipedia.org/wiki/Computer_network\",\n",
    "    \"https://en.wikipedia.org/wiki/French_Revolution\",\n",
    "    \"https://en.wikipedia.org/wiki/World_War_II\",\n",
    "    \"https://en.wikipedia.org/wiki/Ancient_Greece\",\n",
    "    \"https://en.wikipedia.org/wiki/Renaissance\",\n",
    "    \"https://en.wikipedia.org/wiki/Seven_Wonders_of_the_World\",\n",
    "    \"https://en.wikipedia.org/wiki/Great_Barrier_Reef\",\n",
    "    \"https://en.wikipedia.org/wiki/Amazon_rainforest\",\n",
    "    \"https://en.wikipedia.org/wiki/Sahara\",\n",
    "    \"https://en.wikipedia.org/wiki/Classical_music\",\n",
    "    \"https://en.wikipedia.org/wiki/Impressionism\",\n",
    "    \"https://en.wikipedia.org/wiki/Film\",\n",
    "    \"https://en.wikipedia.org/wiki/Homer\",\n",
    "    \"https://en.wikipedia.org/wiki/Evolution\",\n",
    "    \"https://en.wikipedia.org/wiki/Human_anatomy\",\n",
    "    \"https://en.wikipedia.org/wiki/Climate\",\n",
    "    \"https://en.wikipedia.org/wiki/Biodiversity\",\n",
    "    \"https://en.wikipedia.org/wiki/Sustainable_development\",\n",
    "    \"https://en.wikipedia.org/wiki/Globalization\",\n",
    "    \"https://en.wikipedia.org/wiki/Blockchain\",\n",
    "    \"https://en.wikipedia.org/wiki/Financial_crisis_of_2007–2008\",\n",
    "    \"https://en.wikipedia.org/wiki/Vaccine\",\n",
    "    \"https://en.wikipedia.org/wiki/Mental_health\",\n",
    "    \"https://en.wikipedia.org/wiki/Nutrition\",\n",
    "    \"https://en.wikipedia.org/wiki/Pandemic\"\n",
    "]\n",
    "\n",
    "\n",
    "# Συνάρτηση για συλλογή δεδομένων από άρθρο Wikipedia\n",
    "def fetch_wikipedia_article(url):\n",
    "    try:\n",
    "        response = requests.get(url)\n",
    "        response.raise_for_status()  # Έλεγχος αν η σελίδα είναι προσβάσιμη\n",
    "\n",
    "        soup = BeautifulSoup(response.content, 'html.parser')\n",
    "\n",
    "        # Τίτλος άρθρου\n",
    "        title = soup.find('h1').text\n",
    "\n",
    "        # Περιεχόμενο άρθρου (παράγραφοι)\n",
    "        paragraphs = soup.find_all('p')\n",
    "        content = '\\n'.join([p.text for p in paragraphs if p.text])\n",
    "\n",
    "        return {'title': title, 'url': url, 'content': content}\n",
    "\n",
    "    except Exception as e:\n",
    "        print(f\"Error fetching article from {url}: {e}\")\n",
    "        return None\n",
    "\n",
    "# Συλλογή δεδομένων από τα URLs\n",
    "collected_articles = []\n",
    "\n",
    "for url in wikipedia_urls:\n",
    "    article = fetch_wikipedia_article(url)\n",
    "    if article:\n",
    "        collected_articles.append(article)\n",
    "\n",
    "# Αποθήκευση δεδομένων σε JSON αρχείο\n",
    "output_file = 'wikipedia_articles.json'\n",
    "with open(output_file, 'w', encoding='utf-8') as file:\n",
    "    json.dump(collected_articles, file, indent=4, ensure_ascii=False)\n",
    "\n",
    "print(f\"Articles saved successfully to {output_file}\")\n"
   ]
  }
 ],
 "metadata": {
  "language_info": {
   "name": "python"
  }
 },
 "nbformat": 4,
 "nbformat_minor": 2
}
